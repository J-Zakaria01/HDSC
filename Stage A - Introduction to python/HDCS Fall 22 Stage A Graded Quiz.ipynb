{
  "nbformat": 4,
  "nbformat_minor": 0,
  "metadata": {
    "colab": {
      "provenance": []
    },
    "kernelspec": {
      "name": "python3",
      "display_name": "Python 3"
    },
    "language_info": {
      "name": "python"
    }
  },
  "cells": [
    {
      "cell_type": "markdown",
      "source": [
        "## HDCS Fall 22 internship project #1: Stage A Graded Quiz\n",
        "INTRODUCTION TO PYTHON FOR MACHINE LEARNING\n",
        "### Import the required libraries\n"
      ],
      "metadata": {
        "id": "uK28oSlLHxti"
      }
    },
    {
      "cell_type": "code",
      "execution_count": 73,
      "metadata": {
        "id": "eeQnq9-GLWuK"
      },
      "outputs": [],
      "source": [
        "import pandas as pd\n",
        "import numpy as np\n",
        "import matplotlib.pyplot as plt\n",
        "import seaborn as sns"
      ]
    },
    {
      "cell_type": "code",
      "source": [
        "data = pd.read_csv(\"Food_Africa.csv\", encoding = \"latin-1\", on_bad_lines='skip')"
      ],
      "metadata": {
        "id": "k_e4CL8HLoD-",
        "colab": {
          "base_uri": "https://localhost:8080/"
        },
        "outputId": "49f2dc9f-a5b2-4cf4-b5b5-865aa5ec6b31"
      },
      "execution_count": 72,
      "outputs": [
        {
          "output_type": "stream",
          "name": "stderr",
          "text": [
            "/usr/local/lib/python3.7/dist-packages/IPython/core/interactiveshell.py:3326: DtypeWarning: Columns (2) have mixed types.Specify dtype option on import or set low_memory=False.\n",
            "  exec(code_obj, self.user_global_ns, self.user_ns)\n"
          ]
        }
      ]
    },
    {
      "cell_type": "code",
      "source": [
        "data.head()"
      ],
      "metadata": {
        "colab": {
          "base_uri": "https://localhost:8080/",
          "height": 206
        },
        "id": "56p0lkWdpOQ6",
        "outputId": "799a5ccc-51df-45b5-adcc-3558c36cc8a9"
      },
      "execution_count": 74,
      "outputs": [
        {
          "output_type": "execute_result",
          "data": {
            "text/plain": [
              "  Area Code     Area Item Code         Item  Element Code  \\\n",
              "0         4  Algeria      2501   Population         511.0   \n",
              "1         4  Algeria      2501   Population        5301.0   \n",
              "2         4  Algeria      2901  Grand Total         664.0   \n",
              "3         4  Algeria      2901  Grand Total         674.0   \n",
              "4         4  Algeria      2901  Grand Total         684.0   \n",
              "\n",
              "                                  Element             Unit     Y2014  \\\n",
              "0           Total Population - Both sexes     1000 persons  38924.00   \n",
              "1                Domestic supply quantity      1000 tonnes      0.00   \n",
              "2           Food supply (kcal/capita/day)  kcal/capita/day   3377.00   \n",
              "3  Protein supply quantity (g/capita/day)     g/capita/day     94.90   \n",
              "4      Fat supply quantity (g/capita/day)     g/capita/day     80.06   \n",
              "\n",
              "      Y2015     Y2016     Y2017     Y2018  \n",
              "0  39728.00  40551.00  41389.00  42228.00  \n",
              "1      0.00      0.00      0.00      0.00  \n",
              "2   3379.00   3372.00   3341.00   3322.00  \n",
              "3     94.35     94.72     92.82     91.83  \n",
              "4     79.36     77.40     80.19     77.28  "
            ],
            "text/html": [
              "\n",
              "  <div id=\"df-c58a3e89-1778-435d-8a7c-f2e4fd1badca\">\n",
              "    <div class=\"colab-df-container\">\n",
              "      <div>\n",
              "<style scoped>\n",
              "    .dataframe tbody tr th:only-of-type {\n",
              "        vertical-align: middle;\n",
              "    }\n",
              "\n",
              "    .dataframe tbody tr th {\n",
              "        vertical-align: top;\n",
              "    }\n",
              "\n",
              "    .dataframe thead th {\n",
              "        text-align: right;\n",
              "    }\n",
              "</style>\n",
              "<table border=\"1\" class=\"dataframe\">\n",
              "  <thead>\n",
              "    <tr style=\"text-align: right;\">\n",
              "      <th></th>\n",
              "      <th>Area Code</th>\n",
              "      <th>Area</th>\n",
              "      <th>Item Code</th>\n",
              "      <th>Item</th>\n",
              "      <th>Element Code</th>\n",
              "      <th>Element</th>\n",
              "      <th>Unit</th>\n",
              "      <th>Y2014</th>\n",
              "      <th>Y2015</th>\n",
              "      <th>Y2016</th>\n",
              "      <th>Y2017</th>\n",
              "      <th>Y2018</th>\n",
              "    </tr>\n",
              "  </thead>\n",
              "  <tbody>\n",
              "    <tr>\n",
              "      <th>0</th>\n",
              "      <td>4</td>\n",
              "      <td>Algeria</td>\n",
              "      <td>2501</td>\n",
              "      <td>Population</td>\n",
              "      <td>511.0</td>\n",
              "      <td>Total Population - Both sexes</td>\n",
              "      <td>1000 persons</td>\n",
              "      <td>38924.00</td>\n",
              "      <td>39728.00</td>\n",
              "      <td>40551.00</td>\n",
              "      <td>41389.00</td>\n",
              "      <td>42228.00</td>\n",
              "    </tr>\n",
              "    <tr>\n",
              "      <th>1</th>\n",
              "      <td>4</td>\n",
              "      <td>Algeria</td>\n",
              "      <td>2501</td>\n",
              "      <td>Population</td>\n",
              "      <td>5301.0</td>\n",
              "      <td>Domestic supply quantity</td>\n",
              "      <td>1000 tonnes</td>\n",
              "      <td>0.00</td>\n",
              "      <td>0.00</td>\n",
              "      <td>0.00</td>\n",
              "      <td>0.00</td>\n",
              "      <td>0.00</td>\n",
              "    </tr>\n",
              "    <tr>\n",
              "      <th>2</th>\n",
              "      <td>4</td>\n",
              "      <td>Algeria</td>\n",
              "      <td>2901</td>\n",
              "      <td>Grand Total</td>\n",
              "      <td>664.0</td>\n",
              "      <td>Food supply (kcal/capita/day)</td>\n",
              "      <td>kcal/capita/day</td>\n",
              "      <td>3377.00</td>\n",
              "      <td>3379.00</td>\n",
              "      <td>3372.00</td>\n",
              "      <td>3341.00</td>\n",
              "      <td>3322.00</td>\n",
              "    </tr>\n",
              "    <tr>\n",
              "      <th>3</th>\n",
              "      <td>4</td>\n",
              "      <td>Algeria</td>\n",
              "      <td>2901</td>\n",
              "      <td>Grand Total</td>\n",
              "      <td>674.0</td>\n",
              "      <td>Protein supply quantity (g/capita/day)</td>\n",
              "      <td>g/capita/day</td>\n",
              "      <td>94.90</td>\n",
              "      <td>94.35</td>\n",
              "      <td>94.72</td>\n",
              "      <td>92.82</td>\n",
              "      <td>91.83</td>\n",
              "    </tr>\n",
              "    <tr>\n",
              "      <th>4</th>\n",
              "      <td>4</td>\n",
              "      <td>Algeria</td>\n",
              "      <td>2901</td>\n",
              "      <td>Grand Total</td>\n",
              "      <td>684.0</td>\n",
              "      <td>Fat supply quantity (g/capita/day)</td>\n",
              "      <td>g/capita/day</td>\n",
              "      <td>80.06</td>\n",
              "      <td>79.36</td>\n",
              "      <td>77.40</td>\n",
              "      <td>80.19</td>\n",
              "      <td>77.28</td>\n",
              "    </tr>\n",
              "  </tbody>\n",
              "</table>\n",
              "</div>\n",
              "      <button class=\"colab-df-convert\" onclick=\"convertToInteractive('df-c58a3e89-1778-435d-8a7c-f2e4fd1badca')\"\n",
              "              title=\"Convert this dataframe to an interactive table.\"\n",
              "              style=\"display:none;\">\n",
              "        \n",
              "  <svg xmlns=\"http://www.w3.org/2000/svg\" height=\"24px\"viewBox=\"0 0 24 24\"\n",
              "       width=\"24px\">\n",
              "    <path d=\"M0 0h24v24H0V0z\" fill=\"none\"/>\n",
              "    <path d=\"M18.56 5.44l.94 2.06.94-2.06 2.06-.94-2.06-.94-.94-2.06-.94 2.06-2.06.94zm-11 1L8.5 8.5l.94-2.06 2.06-.94-2.06-.94L8.5 2.5l-.94 2.06-2.06.94zm10 10l.94 2.06.94-2.06 2.06-.94-2.06-.94-.94-2.06-.94 2.06-2.06.94z\"/><path d=\"M17.41 7.96l-1.37-1.37c-.4-.4-.92-.59-1.43-.59-.52 0-1.04.2-1.43.59L10.3 9.45l-7.72 7.72c-.78.78-.78 2.05 0 2.83L4 21.41c.39.39.9.59 1.41.59.51 0 1.02-.2 1.41-.59l7.78-7.78 2.81-2.81c.8-.78.8-2.07 0-2.86zM5.41 20L4 18.59l7.72-7.72 1.47 1.35L5.41 20z\"/>\n",
              "  </svg>\n",
              "      </button>\n",
              "      \n",
              "  <style>\n",
              "    .colab-df-container {\n",
              "      display:flex;\n",
              "      flex-wrap:wrap;\n",
              "      gap: 12px;\n",
              "    }\n",
              "\n",
              "    .colab-df-convert {\n",
              "      background-color: #E8F0FE;\n",
              "      border: none;\n",
              "      border-radius: 50%;\n",
              "      cursor: pointer;\n",
              "      display: none;\n",
              "      fill: #1967D2;\n",
              "      height: 32px;\n",
              "      padding: 0 0 0 0;\n",
              "      width: 32px;\n",
              "    }\n",
              "\n",
              "    .colab-df-convert:hover {\n",
              "      background-color: #E2EBFA;\n",
              "      box-shadow: 0px 1px 2px rgba(60, 64, 67, 0.3), 0px 1px 3px 1px rgba(60, 64, 67, 0.15);\n",
              "      fill: #174EA6;\n",
              "    }\n",
              "\n",
              "    [theme=dark] .colab-df-convert {\n",
              "      background-color: #3B4455;\n",
              "      fill: #D2E3FC;\n",
              "    }\n",
              "\n",
              "    [theme=dark] .colab-df-convert:hover {\n",
              "      background-color: #434B5C;\n",
              "      box-shadow: 0px 1px 3px 1px rgba(0, 0, 0, 0.15);\n",
              "      filter: drop-shadow(0px 1px 2px rgba(0, 0, 0, 0.3));\n",
              "      fill: #FFFFFF;\n",
              "    }\n",
              "  </style>\n",
              "\n",
              "      <script>\n",
              "        const buttonEl =\n",
              "          document.querySelector('#df-c58a3e89-1778-435d-8a7c-f2e4fd1badca button.colab-df-convert');\n",
              "        buttonEl.style.display =\n",
              "          google.colab.kernel.accessAllowed ? 'block' : 'none';\n",
              "\n",
              "        async function convertToInteractive(key) {\n",
              "          const element = document.querySelector('#df-c58a3e89-1778-435d-8a7c-f2e4fd1badca');\n",
              "          const dataTable =\n",
              "            await google.colab.kernel.invokeFunction('convertToInteractive',\n",
              "                                                     [key], {});\n",
              "          if (!dataTable) return;\n",
              "\n",
              "          const docLinkHtml = 'Like what you see? Visit the ' +\n",
              "            '<a target=\"_blank\" href=https://colab.research.google.com/notebooks/data_table.ipynb>data table notebook</a>'\n",
              "            + ' to learn more about interactive tables.';\n",
              "          element.innerHTML = '';\n",
              "          dataTable['output_type'] = 'display_data';\n",
              "          await google.colab.output.renderOutput(dataTable, element);\n",
              "          const docLink = document.createElement('div');\n",
              "          docLink.innerHTML = docLinkHtml;\n",
              "          element.appendChild(docLink);\n",
              "        }\n",
              "      </script>\n",
              "    </div>\n",
              "  </div>\n",
              "  "
            ]
          },
          "metadata": {},
          "execution_count": 74
        }
      ]
    },
    {
      "cell_type": "markdown",
      "source": [
        "### Total Protein supply quantity in Madagascar in 2015\n",
        "The answer is 346.10 as we can see below"
      ],
      "metadata": {
        "id": "8a3qb1xOCLFn"
      }
    },
    {
      "cell_type": "code",
      "source": [
        "Madagascar_data = data[data[\"Area\"] == \"Madagascar\"]\n",
        "Madagascar_data.groupby(\"Element\")[\"Y2015\"].sum()"
      ],
      "metadata": {
        "colab": {
          "base_uri": "https://localhost:8080/"
        },
        "id": "Cr5l6irvrL2Q",
        "outputId": "a6b7624b-8c7d-4519-9736-967beeece586"
      },
      "execution_count": 76,
      "outputs": [
        {
          "output_type": "execute_result",
          "data": {
            "text/plain": [
              "Element\n",
              "Domestic supply quantity                  62429.96\n",
              "Export Quantity                             989.50\n",
              "Fat supply quantity (g/capita/day)          183.70\n",
              "Feed                                       4140.44\n",
              "Food                                      42241.30\n",
              "Food supply (kcal/capita/day)             15370.00\n",
              "Food supply quantity (kg/capita/yr)        1743.18\n",
              "Import Quantity                            3443.60\n",
              "Losses                                     4352.00\n",
              "Other uses (non-food)                      7914.24\n",
              "Processing                                 3606.00\n",
              "Production                                58965.78\n",
              "Protein supply quantity (g/capita/day)      346.10\n",
              "Residuals                                 -1232.00\n",
              "Seed                                       1398.00\n",
              "Stock Variation                           -1010.00\n",
              "Total Population - Both sexes             48468.00\n",
              "Name: Y2015, dtype: float64"
            ]
          },
          "metadata": {},
          "execution_count": 76
        }
      ]
    },
    {
      "cell_type": "markdown",
      "source": [
        "### The total number of the sum of Processing in 2017\n",
        "The answer is 475887.00 as we see"
      ],
      "metadata": {
        "id": "jrbiWd_nDK57"
      }
    },
    {
      "cell_type": "code",
      "source": [
        "data.groupby(\"Element\")[\"Y2017\"].sum()"
      ],
      "metadata": {
        "colab": {
          "base_uri": "https://localhost:8080/"
        },
        "id": "aUtqnzvsrMBq",
        "outputId": "95ff6f98-ce52-494b-851a-41eb773101e9"
      },
      "execution_count": 77,
      "outputs": [
        {
          "output_type": "execute_result",
          "data": {
            "text/plain": [
              "Element\n",
              "3.000000                                        0.00\n",
              "4.000000                                        0.00\n",
              "Domestic supply quantity                  3450498.02\n",
              "Export Quantity                            328827.00\n",
              "Fat supply quantity (g/capita/day)          16647.68\n",
              "Feed                                       380969.42\n",
              "Food                                      2069626.16\n",
              "Food supply (kcal/capita/day)              735156.00\n",
              "Food supply quantity (kg/capita/yr)         78710.07\n",
              "Import Quantity                            452426.37\n",
              "Losses                                     266646.00\n",
              "Other uses (non-food)                      150502.13\n",
              "Processing                                 475887.00\n",
              "Production                                3426133.58\n",
              "Protein supply quantity (g/capita/day)      19096.36\n",
              "Residuals                                   69376.00\n",
              "Seed                                        37283.28\n",
              "Stock Variation                             99609.06\n",
              "Total Population - Both sexes             1838048.00\n",
              "Tourist consumption                           152.00\n",
              "Name: Y2017, dtype: float64"
            ]
          },
          "metadata": {},
          "execution_count": 77
        }
      ]
    },
    {
      "cell_type": "markdown",
      "source": [
        "### The total of Wine produced in 2015 and 2018\n",
        "The answer is 2409.00 for 2015 & 2121.00 for 2018"
      ],
      "metadata": {
        "id": "rbk-geSjDkV2"
      }
    },
    {
      "cell_type": "code",
      "source": [
        "Wine_data = data[data['Item'] == \"Wine\"]\n",
        "Wine_data.groupby(\"Element\")[\"Y2015\"].sum()"
      ],
      "metadata": {
        "colab": {
          "base_uri": "https://localhost:8080/"
        },
        "id": "41ZOgwtprMNL",
        "outputId": "2101a390-2930-46cd-eaa0-4543ceabbae7"
      },
      "execution_count": 80,
      "outputs": [
        {
          "output_type": "execute_result",
          "data": {
            "text/plain": [
              "Element\n",
              "Domestic supply quantity                  1702.00\n",
              "Export Quantity                           1020.00\n",
              "Fat supply quantity (g/capita/day)           0.00\n",
              "Food                                      1366.00\n",
              "Food supply (kcal/capita/day)              234.00\n",
              "Food supply quantity (kg/capita/yr)        126.04\n",
              "Import Quantity                            513.00\n",
              "Losses                                       2.00\n",
              "Other uses (non-food)                       20.00\n",
              "Processing                                 315.00\n",
              "Production                                2409.00\n",
              "Protein supply quantity (g/capita/day)       0.00\n",
              "Residuals                                    0.00\n",
              "Stock Variation                            194.00\n",
              "Tourist consumption                          0.00\n",
              "Name: Y2015, dtype: float64"
            ]
          },
          "metadata": {},
          "execution_count": 80
        }
      ]
    },
    {
      "cell_type": "code",
      "source": [
        "Wine_data.groupby(\"Element\")[\"Y2018\"].sum()"
      ],
      "metadata": {
        "colab": {
          "base_uri": "https://localhost:8080/"
        },
        "id": "-QdqImVbrMVL",
        "outputId": "1f1603eb-f5ff-46d0-e33b-fa458ae697ce"
      },
      "execution_count": 81,
      "outputs": [
        {
          "output_type": "execute_result",
          "data": {
            "text/plain": [
              "Element\n",
              "Domestic supply quantity                  1749.0\n",
              "Export Quantity                           1105.0\n",
              "Fat supply quantity (g/capita/day)           0.0\n",
              "Food                                      1410.0\n",
              "Food supply (kcal/capita/day)              241.0\n",
              "Food supply quantity (kg/capita/yr)        128.9\n",
              "Import Quantity                            550.0\n",
              "Losses                                       4.0\n",
              "Other uses (non-food)                       58.0\n",
              "Processing                                 280.0\n",
              "Production                                2121.0\n",
              "Protein supply quantity (g/capita/day)       0.0\n",
              "Residuals                                    0.0\n",
              "Stock Variation                           -185.0\n",
              "Tourist consumption                          0.0\n",
              "Name: Y2018, dtype: float64"
            ]
          },
          "metadata": {},
          "execution_count": 81
        }
      ]
    },
    {
      "cell_type": "markdown",
      "source": [
        "### The Area with the highest sum in 2017\n",
        "The answer is Nigeria with sum of 2966536.46"
      ],
      "metadata": {
        "id": "xj9k5Ga-EyAp"
      }
    },
    {
      "cell_type": "code",
      "source": [
        "data.groupby(\"Area\")[\"Y2017\"].sum().sort_values(ascending = False)"
      ],
      "metadata": {
        "colab": {
          "base_uri": "https://localhost:8080/"
        },
        "id": "YG7VgHrqrCT9",
        "outputId": "6edc4918-c590-42b4-d4e4-8992fcf1ea60"
      },
      "execution_count": 84,
      "outputs": [
        {
          "output_type": "execute_result",
          "data": {
            "text/plain": [
              "Area\n",
              "Nigeria                        2966536.46\n",
              "South Africa                   1035181.08\n",
              "Egypt                           866379.92\n",
              "Morocco                         776990.72\n",
              "Ghana                           675198.12\n",
              "United Republic of Tanzania     645233.70\n",
              "Kenya                           529321.32\n",
              "Sudan                           479863.84\n",
              "Ethiopia                        448683.76\n",
              "Uganda                          427900.76\n",
              "Malawi                          362197.42\n",
              "Algeria                         325644.27\n",
              "Mozambique                      322815.96\n",
              "Mauritania                      313330.92\n",
              "Mali                            299856.66\n",
              "Madagascar                      262395.46\n",
              "Niger                           253415.16\n",
              "Tunisia                         248334.40\n",
              "Cameroon                        232030.43\n",
              "Angola                          229159.57\n",
              "Côte d'Ivoire                   224599.01\n",
              "Zambia                          206447.54\n",
              "Guinea                          196277.74\n",
              "Senegal                         191362.30\n",
              "Zimbabwe                        151838.68\n",
              "Rwanda                          147327.38\n",
              "Benin                           124771.22\n",
              "Sierra Leone                    110622.66\n",
              "Mauritius                       102221.66\n",
              "Burkina Faso                    101855.07\n",
              "Togo                             99683.76\n",
              "Chad                             71594.68\n",
              "Namibia                          59749.78\n",
              "Liberia                          58684.40\n",
              "Eswatini                         54343.33\n",
              "Lesotho                          42535.92\n",
              "Congo                            41181.68\n",
              "Guinea-Bissau                    38205.54\n",
              "Central African Republic         29937.00\n",
              "Gambia                           28153.48\n",
              "Gabon                            27979.64\n",
              "Sao Tome and Principe            25325.26\n",
              "Djibouti                         22729.91\n",
              "Botswana                         22101.30\n",
              "Cabo Verde                       14650.74\n",
              "Seychelles                         884.68\n",
              "Comoros                             59.84\n",
              "Ethiopia PDR                         0.00\n",
              "Sudan (former)                       0.00\n",
              "kcal/capita/day                      0.00\n",
              "Name: Y2017, dtype: float64"
            ]
          },
          "metadata": {},
          "execution_count": 84
        }
      ]
    },
    {
      "cell_type": "markdown",
      "source": [
        "### The total number of unique countries in the dataset"
      ],
      "metadata": {
        "id": "05iXxvqwFzPK"
      }
    },
    {
      "cell_type": "code",
      "source": [
        " data.Area.nunique()"
      ],
      "metadata": {
        "colab": {
          "base_uri": "https://localhost:8080/"
        },
        "id": "k18san6vrmdU",
        "outputId": "1d7f4a74-1cac-4919-edf5-236a4f537842"
      },
      "execution_count": 85,
      "outputs": [
        {
          "output_type": "execute_result",
          "data": {
            "text/plain": [
              "50"
            ]
          },
          "metadata": {},
          "execution_count": 85
        }
      ]
    },
    {
      "cell_type": "markdown",
      "source": [
        "### The mean and standard deviation across the whole dataset for the year 2017"
      ],
      "metadata": {
        "id": "uwpefEaOF8c9"
      }
    },
    {
      "cell_type": "code",
      "source": [
        "print(f\"The mean is: \" + str(data.Y2017.mean()) + \", and the standar deviation is: \" + str(data.Y2017.std())) "
      ],
      "metadata": {
        "colab": {
          "base_uri": "https://localhost:8080/"
        },
        "id": "wbyAK2cKrptU",
        "outputId": "4fa192e0-5c75-4ca5-d6e4-6670cfd49a80"
      },
      "execution_count": 90,
      "outputs": [
        {
          "output_type": "stream",
          "name": "stdout",
          "text": [
            "The mean is: 143.17531791907513, and the standar deviation is: 1730.3772175725207\n"
          ]
        }
      ]
    },
    {
      "cell_type": "markdown",
      "source": [
        "### The Areas with the 7th lowest sum in 2017\n",
        "The answer is Cabo Verde with 14650.74\n",
        "\n"
      ],
      "metadata": {
        "id": "P1x6C00tHNZQ"
      }
    },
    {
      "cell_type": "code",
      "source": [
        "data.groupby(\"Area\")[\"Y2017\"].sum().sort_values(ascending = True)\n"
      ],
      "metadata": {
        "colab": {
          "base_uri": "https://localhost:8080/"
        },
        "id": "m_wd8pmL0vGb",
        "outputId": "07244381-ddff-4bcf-bc3e-965b373d394a"
      },
      "execution_count": 91,
      "outputs": [
        {
          "output_type": "execute_result",
          "data": {
            "text/plain": [
              "Area\n",
              "kcal/capita/day                      0.00\n",
              "Sudan (former)                       0.00\n",
              "Ethiopia PDR                         0.00\n",
              "Comoros                             59.84\n",
              "Seychelles                         884.68\n",
              "Cabo Verde                       14650.74\n",
              "Botswana                         22101.30\n",
              "Djibouti                         22729.91\n",
              "Sao Tome and Principe            25325.26\n",
              "Gabon                            27979.64\n",
              "Gambia                           28153.48\n",
              "Central African Republic         29937.00\n",
              "Guinea-Bissau                    38205.54\n",
              "Congo                            41181.68\n",
              "Lesotho                          42535.92\n",
              "Eswatini                         54343.33\n",
              "Liberia                          58684.40\n",
              "Namibia                          59749.78\n",
              "Chad                             71594.68\n",
              "Togo                             99683.76\n",
              "Burkina Faso                    101855.07\n",
              "Mauritius                       102221.66\n",
              "Sierra Leone                    110622.66\n",
              "Benin                           124771.22\n",
              "Rwanda                          147327.38\n",
              "Zimbabwe                        151838.68\n",
              "Senegal                         191362.30\n",
              "Guinea                          196277.74\n",
              "Zambia                          206447.54\n",
              "Côte d'Ivoire                   224599.01\n",
              "Angola                          229159.57\n",
              "Cameroon                        232030.43\n",
              "Tunisia                         248334.40\n",
              "Niger                           253415.16\n",
              "Madagascar                      262395.46\n",
              "Mali                            299856.66\n",
              "Mauritania                      313330.92\n",
              "Mozambique                      322815.96\n",
              "Algeria                         325644.27\n",
              "Malawi                          362197.42\n",
              "Uganda                          427900.76\n",
              "Ethiopia                        448683.76\n",
              "Sudan                           479863.84\n",
              "Kenya                           529321.32\n",
              "United Republic of Tanzania     645233.70\n",
              "Ghana                           675198.12\n",
              "Morocco                         776990.72\n",
              "Egypt                           866379.92\n",
              "South Africa                   1035181.08\n",
              "Nigeria                        2966536.46\n",
              "Name: Y2017, dtype: float64"
            ]
          },
          "metadata": {},
          "execution_count": 91
        }
      ]
    },
    {
      "cell_type": "markdown",
      "source": [
        "### The year with the highest sum of Stock Variation?\n",
        "The answer is 2017 with a Stock Variation of 99609.06"
      ],
      "metadata": {
        "id": "jxlM8WnRHt3Q"
      }
    },
    {
      "cell_type": "code",
      "source": [
        "data.groupby(\"Element\")[[\"Y2014\",\"Y2015\",\"Y2016\",\"Y2017\"]].sum()"
      ],
      "metadata": {
        "colab": {
          "base_uri": "https://localhost:8080/",
          "height": 708
        },
        "id": "1sKtK5HQ3dik",
        "outputId": "3ef92f97-110d-4a61-d666-390ceed3adb0"
      },
      "execution_count": 93,
      "outputs": [
        {
          "output_type": "execute_result",
          "data": {
            "text/plain": [
              "                                             Y2014       Y2015       Y2016  \\\n",
              "Element                                                                      \n",
              "3.000000                                      4.00        4.00        0.00   \n",
              "4.000000                                      0.00        0.00        0.00   \n",
              "Domestic supply quantity                3313110.86  3337541.62  3376385.64   \n",
              "Export Quantity                          271005.89   286742.13   273387.01   \n",
              "Fat supply quantity (g/capita/day)        16594.28    16600.33    16396.21   \n",
              "Feed                                     370315.45   382097.74   389283.37   \n",
              "Food                                    1996964.41  2028363.73  2053280.71   \n",
              "Food supply (kcal/capita/day)            734680.00   732173.00   729863.00   \n",
              "Food supply quantity (kg/capita/yr)       80088.16    79618.72    79064.99   \n",
              "Import Quantity                          416863.54   400868.36   436504.34   \n",
              "Losses                                   255691.00   258006.00   261818.00   \n",
              "Other uses (non-food)                    128802.31   102801.54   109024.19   \n",
              "Processing                               468224.00   471675.00   455532.00   \n",
              "Production                              3257168.63  3277685.07  3262242.24   \n",
              "Protein supply quantity (g/capita/day)    19051.97    19021.22    18964.17   \n",
              "Residuals                                 59157.00    58087.00    72449.00   \n",
              "Seed                                      33325.84    35957.64    34576.40   \n",
              "Stock Variation                           90053.68    54210.96    48620.00   \n",
              "Total Population - Both sexes           1704208.00  1747903.00  1792531.00   \n",
              "Tourist consumption                         469.00      407.00      148.00   \n",
              "\n",
              "                                             Y2017  \n",
              "Element                                             \n",
              "3.000000                                      0.00  \n",
              "4.000000                                      0.00  \n",
              "Domestic supply quantity                3450498.02  \n",
              "Export Quantity                          328827.00  \n",
              "Fat supply quantity (g/capita/day)        16647.68  \n",
              "Feed                                     380969.42  \n",
              "Food                                    2069626.16  \n",
              "Food supply (kcal/capita/day)            735156.00  \n",
              "Food supply quantity (kg/capita/yr)       78710.07  \n",
              "Import Quantity                          452426.37  \n",
              "Losses                                   266646.00  \n",
              "Other uses (non-food)                    150502.13  \n",
              "Processing                               475887.00  \n",
              "Production                              3426133.58  \n",
              "Protein supply quantity (g/capita/day)    19096.36  \n",
              "Residuals                                 69376.00  \n",
              "Seed                                      37283.28  \n",
              "Stock Variation                           99609.06  \n",
              "Total Population - Both sexes           1838048.00  \n",
              "Tourist consumption                         152.00  "
            ],
            "text/html": [
              "\n",
              "  <div id=\"df-ab8aad7e-b1fa-4603-9f0b-d282c91e8b8b\">\n",
              "    <div class=\"colab-df-container\">\n",
              "      <div>\n",
              "<style scoped>\n",
              "    .dataframe tbody tr th:only-of-type {\n",
              "        vertical-align: middle;\n",
              "    }\n",
              "\n",
              "    .dataframe tbody tr th {\n",
              "        vertical-align: top;\n",
              "    }\n",
              "\n",
              "    .dataframe thead th {\n",
              "        text-align: right;\n",
              "    }\n",
              "</style>\n",
              "<table border=\"1\" class=\"dataframe\">\n",
              "  <thead>\n",
              "    <tr style=\"text-align: right;\">\n",
              "      <th></th>\n",
              "      <th>Y2014</th>\n",
              "      <th>Y2015</th>\n",
              "      <th>Y2016</th>\n",
              "      <th>Y2017</th>\n",
              "    </tr>\n",
              "    <tr>\n",
              "      <th>Element</th>\n",
              "      <th></th>\n",
              "      <th></th>\n",
              "      <th></th>\n",
              "      <th></th>\n",
              "    </tr>\n",
              "  </thead>\n",
              "  <tbody>\n",
              "    <tr>\n",
              "      <th>3.000000</th>\n",
              "      <td>4.00</td>\n",
              "      <td>4.00</td>\n",
              "      <td>0.00</td>\n",
              "      <td>0.00</td>\n",
              "    </tr>\n",
              "    <tr>\n",
              "      <th>4.000000</th>\n",
              "      <td>0.00</td>\n",
              "      <td>0.00</td>\n",
              "      <td>0.00</td>\n",
              "      <td>0.00</td>\n",
              "    </tr>\n",
              "    <tr>\n",
              "      <th>Domestic supply quantity</th>\n",
              "      <td>3313110.86</td>\n",
              "      <td>3337541.62</td>\n",
              "      <td>3376385.64</td>\n",
              "      <td>3450498.02</td>\n",
              "    </tr>\n",
              "    <tr>\n",
              "      <th>Export Quantity</th>\n",
              "      <td>271005.89</td>\n",
              "      <td>286742.13</td>\n",
              "      <td>273387.01</td>\n",
              "      <td>328827.00</td>\n",
              "    </tr>\n",
              "    <tr>\n",
              "      <th>Fat supply quantity (g/capita/day)</th>\n",
              "      <td>16594.28</td>\n",
              "      <td>16600.33</td>\n",
              "      <td>16396.21</td>\n",
              "      <td>16647.68</td>\n",
              "    </tr>\n",
              "    <tr>\n",
              "      <th>Feed</th>\n",
              "      <td>370315.45</td>\n",
              "      <td>382097.74</td>\n",
              "      <td>389283.37</td>\n",
              "      <td>380969.42</td>\n",
              "    </tr>\n",
              "    <tr>\n",
              "      <th>Food</th>\n",
              "      <td>1996964.41</td>\n",
              "      <td>2028363.73</td>\n",
              "      <td>2053280.71</td>\n",
              "      <td>2069626.16</td>\n",
              "    </tr>\n",
              "    <tr>\n",
              "      <th>Food supply (kcal/capita/day)</th>\n",
              "      <td>734680.00</td>\n",
              "      <td>732173.00</td>\n",
              "      <td>729863.00</td>\n",
              "      <td>735156.00</td>\n",
              "    </tr>\n",
              "    <tr>\n",
              "      <th>Food supply quantity (kg/capita/yr)</th>\n",
              "      <td>80088.16</td>\n",
              "      <td>79618.72</td>\n",
              "      <td>79064.99</td>\n",
              "      <td>78710.07</td>\n",
              "    </tr>\n",
              "    <tr>\n",
              "      <th>Import Quantity</th>\n",
              "      <td>416863.54</td>\n",
              "      <td>400868.36</td>\n",
              "      <td>436504.34</td>\n",
              "      <td>452426.37</td>\n",
              "    </tr>\n",
              "    <tr>\n",
              "      <th>Losses</th>\n",
              "      <td>255691.00</td>\n",
              "      <td>258006.00</td>\n",
              "      <td>261818.00</td>\n",
              "      <td>266646.00</td>\n",
              "    </tr>\n",
              "    <tr>\n",
              "      <th>Other uses (non-food)</th>\n",
              "      <td>128802.31</td>\n",
              "      <td>102801.54</td>\n",
              "      <td>109024.19</td>\n",
              "      <td>150502.13</td>\n",
              "    </tr>\n",
              "    <tr>\n",
              "      <th>Processing</th>\n",
              "      <td>468224.00</td>\n",
              "      <td>471675.00</td>\n",
              "      <td>455532.00</td>\n",
              "      <td>475887.00</td>\n",
              "    </tr>\n",
              "    <tr>\n",
              "      <th>Production</th>\n",
              "      <td>3257168.63</td>\n",
              "      <td>3277685.07</td>\n",
              "      <td>3262242.24</td>\n",
              "      <td>3426133.58</td>\n",
              "    </tr>\n",
              "    <tr>\n",
              "      <th>Protein supply quantity (g/capita/day)</th>\n",
              "      <td>19051.97</td>\n",
              "      <td>19021.22</td>\n",
              "      <td>18964.17</td>\n",
              "      <td>19096.36</td>\n",
              "    </tr>\n",
              "    <tr>\n",
              "      <th>Residuals</th>\n",
              "      <td>59157.00</td>\n",
              "      <td>58087.00</td>\n",
              "      <td>72449.00</td>\n",
              "      <td>69376.00</td>\n",
              "    </tr>\n",
              "    <tr>\n",
              "      <th>Seed</th>\n",
              "      <td>33325.84</td>\n",
              "      <td>35957.64</td>\n",
              "      <td>34576.40</td>\n",
              "      <td>37283.28</td>\n",
              "    </tr>\n",
              "    <tr>\n",
              "      <th>Stock Variation</th>\n",
              "      <td>90053.68</td>\n",
              "      <td>54210.96</td>\n",
              "      <td>48620.00</td>\n",
              "      <td>99609.06</td>\n",
              "    </tr>\n",
              "    <tr>\n",
              "      <th>Total Population - Both sexes</th>\n",
              "      <td>1704208.00</td>\n",
              "      <td>1747903.00</td>\n",
              "      <td>1792531.00</td>\n",
              "      <td>1838048.00</td>\n",
              "    </tr>\n",
              "    <tr>\n",
              "      <th>Tourist consumption</th>\n",
              "      <td>469.00</td>\n",
              "      <td>407.00</td>\n",
              "      <td>148.00</td>\n",
              "      <td>152.00</td>\n",
              "    </tr>\n",
              "  </tbody>\n",
              "</table>\n",
              "</div>\n",
              "      <button class=\"colab-df-convert\" onclick=\"convertToInteractive('df-ab8aad7e-b1fa-4603-9f0b-d282c91e8b8b')\"\n",
              "              title=\"Convert this dataframe to an interactive table.\"\n",
              "              style=\"display:none;\">\n",
              "        \n",
              "  <svg xmlns=\"http://www.w3.org/2000/svg\" height=\"24px\"viewBox=\"0 0 24 24\"\n",
              "       width=\"24px\">\n",
              "    <path d=\"M0 0h24v24H0V0z\" fill=\"none\"/>\n",
              "    <path d=\"M18.56 5.44l.94 2.06.94-2.06 2.06-.94-2.06-.94-.94-2.06-.94 2.06-2.06.94zm-11 1L8.5 8.5l.94-2.06 2.06-.94-2.06-.94L8.5 2.5l-.94 2.06-2.06.94zm10 10l.94 2.06.94-2.06 2.06-.94-2.06-.94-.94-2.06-.94 2.06-2.06.94z\"/><path d=\"M17.41 7.96l-1.37-1.37c-.4-.4-.92-.59-1.43-.59-.52 0-1.04.2-1.43.59L10.3 9.45l-7.72 7.72c-.78.78-.78 2.05 0 2.83L4 21.41c.39.39.9.59 1.41.59.51 0 1.02-.2 1.41-.59l7.78-7.78 2.81-2.81c.8-.78.8-2.07 0-2.86zM5.41 20L4 18.59l7.72-7.72 1.47 1.35L5.41 20z\"/>\n",
              "  </svg>\n",
              "      </button>\n",
              "      \n",
              "  <style>\n",
              "    .colab-df-container {\n",
              "      display:flex;\n",
              "      flex-wrap:wrap;\n",
              "      gap: 12px;\n",
              "    }\n",
              "\n",
              "    .colab-df-convert {\n",
              "      background-color: #E8F0FE;\n",
              "      border: none;\n",
              "      border-radius: 50%;\n",
              "      cursor: pointer;\n",
              "      display: none;\n",
              "      fill: #1967D2;\n",
              "      height: 32px;\n",
              "      padding: 0 0 0 0;\n",
              "      width: 32px;\n",
              "    }\n",
              "\n",
              "    .colab-df-convert:hover {\n",
              "      background-color: #E2EBFA;\n",
              "      box-shadow: 0px 1px 2px rgba(60, 64, 67, 0.3), 0px 1px 3px 1px rgba(60, 64, 67, 0.15);\n",
              "      fill: #174EA6;\n",
              "    }\n",
              "\n",
              "    [theme=dark] .colab-df-convert {\n",
              "      background-color: #3B4455;\n",
              "      fill: #D2E3FC;\n",
              "    }\n",
              "\n",
              "    [theme=dark] .colab-df-convert:hover {\n",
              "      background-color: #434B5C;\n",
              "      box-shadow: 0px 1px 3px 1px rgba(0, 0, 0, 0.15);\n",
              "      filter: drop-shadow(0px 1px 2px rgba(0, 0, 0, 0.3));\n",
              "      fill: #FFFFFF;\n",
              "    }\n",
              "  </style>\n",
              "\n",
              "      <script>\n",
              "        const buttonEl =\n",
              "          document.querySelector('#df-ab8aad7e-b1fa-4603-9f0b-d282c91e8b8b button.colab-df-convert');\n",
              "        buttonEl.style.display =\n",
              "          google.colab.kernel.accessAllowed ? 'block' : 'none';\n",
              "\n",
              "        async function convertToInteractive(key) {\n",
              "          const element = document.querySelector('#df-ab8aad7e-b1fa-4603-9f0b-d282c91e8b8b');\n",
              "          const dataTable =\n",
              "            await google.colab.kernel.invokeFunction('convertToInteractive',\n",
              "                                                     [key], {});\n",
              "          if (!dataTable) return;\n",
              "\n",
              "          const docLinkHtml = 'Like what you see? Visit the ' +\n",
              "            '<a target=\"_blank\" href=https://colab.research.google.com/notebooks/data_table.ipynb>data table notebook</a>'\n",
              "            + ' to learn more about interactive tables.';\n",
              "          element.innerHTML = '';\n",
              "          dataTable['output_type'] = 'display_data';\n",
              "          await google.colab.output.renderOutput(dataTable, element);\n",
              "          const docLink = document.createElement('div');\n",
              "          docLink.innerHTML = docLinkHtml;\n",
              "          element.appendChild(docLink);\n",
              "        }\n",
              "      </script>\n",
              "    </div>\n",
              "  </div>\n",
              "  "
            ]
          },
          "metadata": {},
          "execution_count": 93
        }
      ]
    },
    {
      "cell_type": "markdown",
      "source": [
        "### The year with the least correlation with ‘Element Code’\n",
        "The answer is 2016, it has 2.33% correlation with ‘Element Code’\n"
      ],
      "metadata": {
        "id": "4dNxfEdkIpko"
      }
    },
    {
      "cell_type": "code",
      "source": [
        "data.corr()"
      ],
      "metadata": {
        "colab": {
          "base_uri": "https://localhost:8080/",
          "height": 238
        },
        "id": "PQUI6YaZ5AIL",
        "outputId": "5411e6e7-47a0-4cea-f294-b1363c6c890a"
      },
      "execution_count": 94,
      "outputs": [
        {
          "output_type": "execute_result",
          "data": {
            "text/plain": [
              "              Element Code     Y2014     Y2015     Y2016     Y2017     Y2018\n",
              "Element Code      1.000000  0.024503  0.023838  0.023304  0.024268  0.024321\n",
              "Y2014             0.024503  1.000000  0.994156  0.995830  0.995128  0.995136\n",
              "Y2015             0.023838  0.994156  1.000000  0.995233  0.986640  0.987140\n",
              "Y2016             0.023304  0.995830  0.995233  1.000000  0.991948  0.992262\n",
              "Y2017             0.024268  0.995128  0.986640  0.991948  1.000000  0.998111\n",
              "Y2018             0.024321  0.995136  0.987140  0.992262  0.998111  1.000000"
            ],
            "text/html": [
              "\n",
              "  <div id=\"df-74e143d2-d94f-4045-b5c0-039429acbfe1\">\n",
              "    <div class=\"colab-df-container\">\n",
              "      <div>\n",
              "<style scoped>\n",
              "    .dataframe tbody tr th:only-of-type {\n",
              "        vertical-align: middle;\n",
              "    }\n",
              "\n",
              "    .dataframe tbody tr th {\n",
              "        vertical-align: top;\n",
              "    }\n",
              "\n",
              "    .dataframe thead th {\n",
              "        text-align: right;\n",
              "    }\n",
              "</style>\n",
              "<table border=\"1\" class=\"dataframe\">\n",
              "  <thead>\n",
              "    <tr style=\"text-align: right;\">\n",
              "      <th></th>\n",
              "      <th>Element Code</th>\n",
              "      <th>Y2014</th>\n",
              "      <th>Y2015</th>\n",
              "      <th>Y2016</th>\n",
              "      <th>Y2017</th>\n",
              "      <th>Y2018</th>\n",
              "    </tr>\n",
              "  </thead>\n",
              "  <tbody>\n",
              "    <tr>\n",
              "      <th>Element Code</th>\n",
              "      <td>1.000000</td>\n",
              "      <td>0.024503</td>\n",
              "      <td>0.023838</td>\n",
              "      <td>0.023304</td>\n",
              "      <td>0.024268</td>\n",
              "      <td>0.024321</td>\n",
              "    </tr>\n",
              "    <tr>\n",
              "      <th>Y2014</th>\n",
              "      <td>0.024503</td>\n",
              "      <td>1.000000</td>\n",
              "      <td>0.994156</td>\n",
              "      <td>0.995830</td>\n",
              "      <td>0.995128</td>\n",
              "      <td>0.995136</td>\n",
              "    </tr>\n",
              "    <tr>\n",
              "      <th>Y2015</th>\n",
              "      <td>0.023838</td>\n",
              "      <td>0.994156</td>\n",
              "      <td>1.000000</td>\n",
              "      <td>0.995233</td>\n",
              "      <td>0.986640</td>\n",
              "      <td>0.987140</td>\n",
              "    </tr>\n",
              "    <tr>\n",
              "      <th>Y2016</th>\n",
              "      <td>0.023304</td>\n",
              "      <td>0.995830</td>\n",
              "      <td>0.995233</td>\n",
              "      <td>1.000000</td>\n",
              "      <td>0.991948</td>\n",
              "      <td>0.992262</td>\n",
              "    </tr>\n",
              "    <tr>\n",
              "      <th>Y2017</th>\n",
              "      <td>0.024268</td>\n",
              "      <td>0.995128</td>\n",
              "      <td>0.986640</td>\n",
              "      <td>0.991948</td>\n",
              "      <td>1.000000</td>\n",
              "      <td>0.998111</td>\n",
              "    </tr>\n",
              "    <tr>\n",
              "      <th>Y2018</th>\n",
              "      <td>0.024321</td>\n",
              "      <td>0.995136</td>\n",
              "      <td>0.987140</td>\n",
              "      <td>0.992262</td>\n",
              "      <td>0.998111</td>\n",
              "      <td>1.000000</td>\n",
              "    </tr>\n",
              "  </tbody>\n",
              "</table>\n",
              "</div>\n",
              "      <button class=\"colab-df-convert\" onclick=\"convertToInteractive('df-74e143d2-d94f-4045-b5c0-039429acbfe1')\"\n",
              "              title=\"Convert this dataframe to an interactive table.\"\n",
              "              style=\"display:none;\">\n",
              "        \n",
              "  <svg xmlns=\"http://www.w3.org/2000/svg\" height=\"24px\"viewBox=\"0 0 24 24\"\n",
              "       width=\"24px\">\n",
              "    <path d=\"M0 0h24v24H0V0z\" fill=\"none\"/>\n",
              "    <path d=\"M18.56 5.44l.94 2.06.94-2.06 2.06-.94-2.06-.94-.94-2.06-.94 2.06-2.06.94zm-11 1L8.5 8.5l.94-2.06 2.06-.94-2.06-.94L8.5 2.5l-.94 2.06-2.06.94zm10 10l.94 2.06.94-2.06 2.06-.94-2.06-.94-.94-2.06-.94 2.06-2.06.94z\"/><path d=\"M17.41 7.96l-1.37-1.37c-.4-.4-.92-.59-1.43-.59-.52 0-1.04.2-1.43.59L10.3 9.45l-7.72 7.72c-.78.78-.78 2.05 0 2.83L4 21.41c.39.39.9.59 1.41.59.51 0 1.02-.2 1.41-.59l7.78-7.78 2.81-2.81c.8-.78.8-2.07 0-2.86zM5.41 20L4 18.59l7.72-7.72 1.47 1.35L5.41 20z\"/>\n",
              "  </svg>\n",
              "      </button>\n",
              "      \n",
              "  <style>\n",
              "    .colab-df-container {\n",
              "      display:flex;\n",
              "      flex-wrap:wrap;\n",
              "      gap: 12px;\n",
              "    }\n",
              "\n",
              "    .colab-df-convert {\n",
              "      background-color: #E8F0FE;\n",
              "      border: none;\n",
              "      border-radius: 50%;\n",
              "      cursor: pointer;\n",
              "      display: none;\n",
              "      fill: #1967D2;\n",
              "      height: 32px;\n",
              "      padding: 0 0 0 0;\n",
              "      width: 32px;\n",
              "    }\n",
              "\n",
              "    .colab-df-convert:hover {\n",
              "      background-color: #E2EBFA;\n",
              "      box-shadow: 0px 1px 2px rgba(60, 64, 67, 0.3), 0px 1px 3px 1px rgba(60, 64, 67, 0.15);\n",
              "      fill: #174EA6;\n",
              "    }\n",
              "\n",
              "    [theme=dark] .colab-df-convert {\n",
              "      background-color: #3B4455;\n",
              "      fill: #D2E3FC;\n",
              "    }\n",
              "\n",
              "    [theme=dark] .colab-df-convert:hover {\n",
              "      background-color: #434B5C;\n",
              "      box-shadow: 0px 1px 3px 1px rgba(0, 0, 0, 0.15);\n",
              "      filter: drop-shadow(0px 1px 2px rgba(0, 0, 0, 0.3));\n",
              "      fill: #FFFFFF;\n",
              "    }\n",
              "  </style>\n",
              "\n",
              "      <script>\n",
              "        const buttonEl =\n",
              "          document.querySelector('#df-74e143d2-d94f-4045-b5c0-039429acbfe1 button.colab-df-convert');\n",
              "        buttonEl.style.display =\n",
              "          google.colab.kernel.accessAllowed ? 'block' : 'none';\n",
              "\n",
              "        async function convertToInteractive(key) {\n",
              "          const element = document.querySelector('#df-74e143d2-d94f-4045-b5c0-039429acbfe1');\n",
              "          const dataTable =\n",
              "            await google.colab.kernel.invokeFunction('convertToInteractive',\n",
              "                                                     [key], {});\n",
              "          if (!dataTable) return;\n",
              "\n",
              "          const docLinkHtml = 'Like what you see? Visit the ' +\n",
              "            '<a target=\"_blank\" href=https://colab.research.google.com/notebooks/data_table.ipynb>data table notebook</a>'\n",
              "            + ' to learn more about interactive tables.';\n",
              "          element.innerHTML = '';\n",
              "          dataTable['output_type'] = 'display_data';\n",
              "          await google.colab.output.renderOutput(dataTable, element);\n",
              "          const docLink = document.createElement('div');\n",
              "          docLink.innerHTML = docLinkHtml;\n",
              "          element.appendChild(docLink);\n",
              "        }\n",
              "      </script>\n",
              "    </div>\n",
              "  </div>\n",
              "  "
            ]
          },
          "metadata": {},
          "execution_count": 94
        }
      ]
    },
    {
      "cell_type": "markdown",
      "source": [
        "### The total number and percentage of missing data in 2014"
      ],
      "metadata": {
        "id": "k_JAULA8KBgq"
      }
    },
    {
      "cell_type": "code",
      "source": [
        "data.info()"
      ],
      "metadata": {
        "colab": {
          "base_uri": "https://localhost:8080/"
        },
        "id": "3nuadE0k5AX3",
        "outputId": "b7bd32d0-a94f-4a9a-cf69-979a48516494"
      },
      "execution_count": 95,
      "outputs": [
        {
          "output_type": "stream",
          "name": "stdout",
          "text": [
            "<class 'pandas.core.frame.DataFrame'>\n",
            "RangeIndex: 99504 entries, 0 to 99503\n",
            "Data columns (total 12 columns):\n",
            " #   Column        Non-Null Count  Dtype  \n",
            "---  ------        --------------  -----  \n",
            " 0   Area Code     99504 non-null  object \n",
            " 1   Area          99502 non-null  object \n",
            " 2   Item Code     99503 non-null  object \n",
            " 3   Item          99503 non-null  object \n",
            " 4   Element Code  99502 non-null  float64\n",
            " 5   Element       99502 non-null  object \n",
            " 6   Unit          99502 non-null  object \n",
            " 7   Y2014         96880 non-null  float64\n",
            " 8   Y2015         96953 non-null  float64\n",
            " 9   Y2016         97005 non-null  float64\n",
            " 10  Y2017         97053 non-null  float64\n",
            " 11  Y2018         97213 non-null  float64\n",
            "dtypes: float64(6), object(6)\n",
            "memory usage: 9.1+ MB\n"
          ]
        }
      ]
    },
    {
      "cell_type": "code",
      "source": [
        "print(\"The total numbrt of missing values in 2014 is: \" + str(99504-96880))"
      ],
      "metadata": {
        "colab": {
          "base_uri": "https://localhost:8080/"
        },
        "id": "sSloelO4KSZw",
        "outputId": "f33dffd9-e4da-464f-b0f4-d945eff2bc6e"
      },
      "execution_count": 100,
      "outputs": [
        {
          "output_type": "stream",
          "name": "stdout",
          "text": [
            "The total numbrt of missing values in 2014 is: 2624\n"
          ]
        }
      ]
    },
    {
      "cell_type": "code",
      "source": [
        "print(\"The percentage of missing values in 2014 is: \" + str(100-(96880/99504)*100) +\"%\")"
      ],
      "metadata": {
        "colab": {
          "base_uri": "https://localhost:8080/"
        },
        "id": "EcG6_zLs5Lzh",
        "outputId": "f87fb393-75a9-4ec1-d9da-cd4b2d309c36"
      },
      "execution_count": 98,
      "outputs": [
        {
          "output_type": "stream",
          "name": "stdout",
          "text": [
            "The percentage of missing values in 2014 is: 2.637079916385261%\n"
          ]
        }
      ]
    }
  ]
}